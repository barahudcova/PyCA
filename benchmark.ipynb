{
 "cells": [
  {
   "cell_type": "code",
   "execution_count": 1,
   "metadata": {},
   "outputs": [
    {
     "ename": "ModuleNotFoundError",
     "evalue": "No module named 'Automata'",
     "output_type": "error",
     "traceback": [
      "\u001b[1;31m---------------------------------------------------------------------------\u001b[0m",
      "\u001b[1;31mModuleNotFoundError\u001b[0m                       Traceback (most recent call last)",
      "Cell \u001b[1;32mIn[1], line 1\u001b[0m\n\u001b[1;32m----> 1\u001b[0m \u001b[38;5;28;01mfrom\u001b[39;00m \u001b[38;5;21;01mAutomata\u001b[39;00m \u001b[38;5;28;01mimport\u001b[39;00m LGCA\n\u001b[0;32m      2\u001b[0m \u001b[38;5;28;01mimport\u001b[39;00m \u001b[38;5;21;01mtime\u001b[39;00m\n\u001b[0;32m      3\u001b[0m \u001b[38;5;28;01mimport\u001b[39;00m \u001b[38;5;21;01mtorch\u001b[39;00m\n",
      "\u001b[1;31mModuleNotFoundError\u001b[0m: No module named 'Automata'"
     ]
    }
   ],
   "source": [
    "from Automata import LGCA\n",
    "import time\n",
    "import torch\n",
    "from torchenhanced.util import saveTensVideo\n",
    "\n",
    "h,w = 1920, 1080\n",
    "auto = LGCA(size=(h,w), device='cuda')\n",
    "\n",
    "start = time.time()\n",
    "\n",
    "video = []\n",
    "for i in range(1000):\n",
    "    auto.step()\n",
    "    auto.draw()\n",
    "    # simulate draw call\n",
    "    yo = auto.worldmap\n",
    "    # video.append(auto._worldmap.cpu())\n",
    "\n",
    "torch.cuda.synchronize()\n",
    "yo = auto.worldmap\n",
    "# video = torch.stack(video,dim=0)\n",
    "\n",
    "timed = time.time()-start\n",
    "print(\"Time taken: \", timed)\n",
    "print(\"Fps : \", 1000/(timed))\n",
    "\n",
    "# saveTensVideo(video,'.', 'video.mp4', fps=165)"
   ]
  }
 ],
 "metadata": {
  "kernelspec": {
   "display_name": "Python 3",
   "language": "python",
   "name": "python3"
  },
  "language_info": {
   "codemirror_mode": {
    "name": "ipython",
    "version": 3
   },
   "file_extension": ".py",
   "mimetype": "text/x-python",
   "name": "python",
   "nbconvert_exporter": "python",
   "pygments_lexer": "ipython3",
   "version": "3.12.3"
  }
 },
 "nbformat": 4,
 "nbformat_minor": 2
}
