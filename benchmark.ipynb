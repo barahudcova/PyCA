{
 "cells": [
  {
   "cell_type": "code",
   "execution_count": 9,
   "metadata": {},
   "outputs": [
    {
     "name": "stdout",
     "output_type": "stream",
     "text": [
      "Time taken:  10.427670240402222\n",
      "Fps :  95.89869807404146\n"
     ]
    }
   ],
   "source": [
    "from Automata import LGCA\n",
    "import time\n",
    "import torch\n",
    "from torchenhanced.util import saveTensVideo\n",
    "\n",
    "h,w = 1920, 1080\n",
    "auto = LGCA(size=(h,w), device='cuda')\n",
    "\n",
    "start = time.time()\n",
    "\n",
    "video = []\n",
    "for i in range(1000):\n",
    "    auto.step()\n",
    "    auto.draw()\n",
    "    # simulate draw call\n",
    "    yo = auto.worldmap\n",
    "    # video.append(auto._worldmap.cpu())\n",
    "\n",
    "torch.cuda.synchronize()\n",
    "yo = auto.worldmap\n",
    "# video = torch.stack(video,dim=0)\n",
    "\n",
    "timed = time.time()-start\n",
    "print(\"Time taken: \", timed)\n",
    "print(\"Fps : \", 1000/(timed))\n",
    "\n",
    "# saveTensVideo(video,'.', 'video.mp4', fps=165)"
   ]
  }
 ],
 "metadata": {
  "kernelspec": {
   "display_name": "Python 3",
   "language": "python",
   "name": "python3"
  },
  "language_info": {
   "codemirror_mode": {
    "name": "ipython",
    "version": 3
   },
   "file_extension": ".py",
   "mimetype": "text/x-python",
   "name": "python",
   "nbconvert_exporter": "python",
   "pygments_lexer": "ipython3",
   "version": "3.9.13"
  }
 },
 "nbformat": 4,
 "nbformat_minor": 2
}
